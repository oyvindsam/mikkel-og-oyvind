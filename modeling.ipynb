{
 "cells": [
  {
   "cell_type": "code",
   "execution_count": 33,
   "metadata": {},
   "outputs": [],
   "source": [
    "import pandas as pd\n",
    "from sklearn.model_selection import train_test_split\n",
    "from sklearn.impute import SimpleImputer\n",
    "from sklearn.metrics import roc_auc_score\n",
    "from category_encoders import TargetEncoder\n",
    "from xgboost import XGBRegressor"
   ]
  },
  {
   "cell_type": "code",
   "execution_count": 111,
   "metadata": {},
   "outputs": [],
   "source": [
    "train = pd.read_csv('data/challenge3_train.csv', index_col='id')"
   ]
  },
  {
   "cell_type": "code",
   "execution_count": 35,
   "metadata": {},
   "outputs": [],
   "source": [
    "features_bin = ['f0', 'f26'] # binary\n",
    "features_nom_low = ['f5', 'f15'] # nominal low cardinality (<=3)\n",
    "features_nom_high = ['f12', 'f28'] # >= 26\n",
    "features_ordinal_low = ['f1', 'f2', 'f3', 'f6', 'f9', 'f11', 'f13', 'f17', 'f18', 'f19', 'f20', 'f21', 'f23', 'f24', 'f25', 'f27', 'f29']\n",
    "features_ord_high = ['f4', 'f10', 'f14']\n",
    "features_real = ['f7', 'f8', 'f16', 'f22', 'f30'] # real numbers"
   ]
  },
  {
   "cell_type": "code",
   "execution_count": 113,
   "metadata": {},
   "outputs": [
    {
     "name": "stderr",
     "output_type": "stream",
     "text": [
      "/home/samuelsen/.cache/pypoetry/virtualenvs/project-xBT1uwnk-py3.8/lib/python3.8/site-packages/category_encoders/utils.py:21: FutureWarning: is_categorical is deprecated and will be removed in a future version.  Use is_categorical_dtype instead\n",
      "  elif pd.api.types.is_categorical(cols):\n",
      "/home/samuelsen/.cache/pypoetry/virtualenvs/project-xBT1uwnk-py3.8/lib/python3.8/site-packages/category_encoders/utils.py:21: FutureWarning: is_categorical is deprecated and will be removed in a future version.  Use is_categorical_dtype instead\n",
      "  elif pd.api.types.is_categorical(cols):\n"
     ]
    }
   ],
   "source": [
    "# another difficult column is f28 because of its high cardinality, if we were to use get_dummies, there would be an insane amount of columns\n",
    "# in this column we will use target encoding, which is mean encoding with features to prevent bias\n",
    "encoder = TargetEncoder()\n",
    "train['f12'] = encoder.fit_transform(train['f12'], train['target'])\n",
    "encoder = TargetEncoder()\n",
    "train['f28'] = encoder.fit_transform(train['f28'], train['target'])"
   ]
  },
  {
   "cell_type": "code",
   "execution_count": 114,
   "metadata": {},
   "outputs": [],
   "source": [
    "train = pd.get_dummies(train, columns=features_nom_low)"
   ]
  },
  {
   "cell_type": "code",
   "execution_count": 112,
   "metadata": {},
   "outputs": [],
   "source": [
    "train['f20'] = train['f20'].map(ord, na_action='ignore')\n",
    "map_f20 = {key : value for value, key in enumerate(sorted(train['f20'].dropna().unique()))}\n",
    "train['f20'] = train['f20'].map(map_f20)"
   ]
  },
  {
   "cell_type": "code",
   "execution_count": 115,
   "metadata": {},
   "outputs": [],
   "source": [
    "# split train set into a train and test set\n",
    "X = train.drop(['target'], axis=1)\n",
    "y = train['target']\n",
    "\n",
    "X_train, X_test, y_train, y_test = train_test_split(X, y)"
   ]
  },
  {
   "cell_type": "code",
   "execution_count": 94,
   "metadata": {},
   "outputs": [],
   "source": [
    "# drops imputing as xgboost handles it\n",
    "#my_imputer = SimpleImputer()\n",
    "#train_X = my_imputer.fit_transform(train_X)\n",
    "#test_X = my_imputer.transform(test_X)"
   ]
  },
  {
   "cell_type": "code",
   "execution_count": 116,
   "metadata": {},
   "outputs": [
    {
     "name": "stdout",
     "output_type": "stream",
     "text": [
      "CPU times: user 32.3 s, sys: 72 ms, total: 32.3 s\n",
      "Wall time: 10.1 s\n"
     ]
    }
   ],
   "source": [
    "%%time\n",
    "\n",
    "my_model = XGBRegressor()\n",
    "\n",
    "# fit new df to model\n",
    "my_model.fit(X_train, y_train, verbose=False)\n",
    "# generate predictions\n",
    "predictions = my_model.predict(X_test)\n",
    "#calculate score\n",
    "base_score = roc_auc_score(y_test, predictions)\n"
   ]
  },
  {
   "cell_type": "code",
   "execution_count": 117,
   "metadata": {},
   "outputs": [
    {
     "name": "stdout",
     "output_type": "stream",
     "text": [
      "0.9071318392231333\n"
     ]
    }
   ],
   "source": [
    "print(base_score)\n",
    "#0.9061380644627911\n",
    "\n",
    "#0.9098075714833503 - med label encoding på f12, f18, f20"
   ]
  },
  {
   "cell_type": "code",
   "execution_count": 25,
   "metadata": {},
   "outputs": [
    {
     "name": "stdout",
     "output_type": "stream",
     "text": [
      "0.9021366572804613\n",
      "CPU times: user 15.8 s, sys: 48.1 ms, total: 15.9 s\n",
      "Wall time: 4.42 s\n"
     ]
    }
   ],
   "source": [
    "%%time\n",
    "# Lets try dropping all negative columns\n",
    "negative_col_names = negative_cols['column']\n",
    "\n",
    "train_X_tuned = train_X.drop(labels=negative_col_names, axis=1)\n",
    "test_X_tuned = test_X.drop(labels=negative_col_names, axis=1)\n",
    "\n",
    "my_model = XGBRegressor()\n",
    "\n",
    "# fit new df to model\n",
    "my_model.fit(train_X_tuned, train_y, verbose=False)\n",
    "# generate predictions\n",
    "predictions = my_model.predict(test_X_tuned)\n",
    "#calculate score\n",
    "tuned_score = roc_auc_score(test_y, predictions)\n",
    "print(tuned_score)\n"
   ]
  },
  {
   "cell_type": "code",
   "execution_count": 50,
   "metadata": {},
   "outputs": [],
   "source": [
    "# Calculate ROC curve\n",
    "from sklearn.metrics import roc_curve, auc\n",
    "import matplotlib.pyplot as plt\n",
    "\n",
    "def print_roc_curve(test_y, predictions):\n",
    "    fpr, tpr, _ = roc_curve(test_y, predictions)\n",
    "    roc_auc = auc(fpr, tpr)\n",
    "    #xgb.plot_importance(gbm)\n",
    "    #plt.show()\n",
    "    plt.figure()\n",
    "    lw = 2\n",
    "    plt.plot(fpr, tpr, color='darkorange',\n",
    "             lw=lw, label='ROC curve (area = %0.2f)' % roc_auc)\n",
    "    plt.plot([0, 1], [0, 1], color='navy', lw=lw, linestyle='--')\n",
    "    plt.xlim([-0.02, 1.0])\n",
    "    plt.ylim([0.0, 1.05])\n",
    "    plt.xlabel('False Positive Rate')\n",
    "    plt.ylabel('True Positive Rate')\n",
    "    plt.title('ROC curve')\n",
    "    plt.legend(loc=\"lower right\")\n",
    "    plt.show()"
   ]
  },
  {
   "cell_type": "code",
   "execution_count": 53,
   "metadata": {},
   "outputs": [
    {
     "data": {
      "image/png": "[encoded data removed]",
      "text/plain": [
       "<Figure size 432x288 with 1 Axes>"
      ]
     },
     "metadata": {
      "needs_background": "light"
     },
     "output_type": "display_data"
    }
   ],
   "source": [
    "print_roc_curve(y_test, predictions)"
   ]
  },
  {
   "cell_type": "code",
   "execution_count": 54,
   "metadata": {},
   "outputs": [
    {
     "name": "stdout",
     "output_type": "stream",
     "text": [
      "0.9144174742016911\n",
      "CPU times: user 1min 9s, sys: 190 ms, total: 1min 9s\n",
      "Wall time: 20.6 s\n"
     ]
    }
   ],
   "source": [
    "%%time \n",
    "# now lets try tuning xgboost by letting it stop learning when the validation score stops improving, \n",
    "# and letting it cycle through the learning process until it does so\n",
    "\n",
    "my_model = XGBRegressor(n_estimators=1000, learning_rate=0.05)\n",
    "\n",
    "# fit new df to model\n",
    "my_model.fit(X_train, y_train, early_stopping_rounds=5, eval_set=[(X_test, y_test)], verbose=False)\n",
    "# generate predictions\n",
    "predictions = my_model.predict(X_test)\n",
    "#calculate score\n",
    "tuned_score = roc_auc_score(y_test, predictions)\n",
    "print(tuned_score)"
   ]
  },
  {
   "cell_type": "code",
   "execution_count": 56,
   "metadata": {},
   "outputs": [
    {
     "data": {
      "image/png": "[encoded data removed]",
      "text/plain": [
       "<Figure size 432x288 with 1 Axes>"
      ]
     },
     "metadata": {
      "needs_background": "light"
     },
     "output_type": "display_data"
    }
   ],
   "source": [
    "# we might have overfitted the model, and as a result we need to do cross validation\n",
    "# lets plot the roc curve again\n",
    "print_roc_curve(y_test, predictions)"
   ]
  },
  {
   "cell_type": "code",
   "execution_count": null,
   "metadata": {},
   "outputs": [],
   "source": []
  }
 ],
 "metadata": {
  "kernelspec": {
   "display_name": "Python 3",
   "language": "python",
   "name": "python3"
  },
  "language_info": {
   "codemirror_mode": {
    "name": "ipython",
    "version": 3
   },
   "file_extension": ".py",
   "mimetype": "text/x-python",
   "name": "python",
   "nbconvert_exporter": "python",
   "pygments_lexer": "ipython3",
   "version": "3.8.5"
  }
 },
 "nbformat": 4,
 "nbformat_minor": 4
}
