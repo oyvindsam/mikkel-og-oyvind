{
 "cells": [
  {
   "cell_type": "code",
   "execution_count": 1,
   "metadata": {},
   "outputs": [],
   "source": [
    "\n",
    "# handle categorical values through pd.get_dummies\n",
    "# check with cross-validation\n"
   ]
  },
  {
   "cell_type": "code",
   "execution_count": 1,
   "metadata": {},
   "outputs": [
    {
     "name": "stderr",
     "output_type": "stream",
     "text": [
      "/home/mikkel/.cache/pypoetry/virtualenvs/project-J9--KlOd-py3.8/lib/python3.8/site-packages/category_encoders/utils.py:21: FutureWarning: is_categorical is deprecated and will be removed in a future version.  Use is_categorical_dtype instead\n",
      "  elif pd.api.types.is_categorical(cols):\n"
     ]
    },
    {
     "data": {
      "text/plain": [
       "Index(['id', 'target', 'f0', 'f1', 'f2', 'f3', 'f4', 'f6', 'f7', 'f8', 'f9',\n",
       "       'f10', 'f11', 'f12', 'f13', 'f14', 'f16', 'f17', 'f18', 'f19', 'f21',\n",
       "       'f22', 'f23', 'f24', 'f25', 'f26', 'f27', 'f28', 'f29', 'f30', 'f5_F',\n",
       "       'f5_M', 'f15_A', 'f15_B', 'f15_C', 'f20_A', 'f20_B', 'f20_C', 'f20_D',\n",
       "       'f20_E', 'f20_F', 'f20_G', 'f20_H', 'f20_I', 'f20_J', 'f20_K', 'f20_L',\n",
       "       'f20_M', 'f20_N', 'f20_O', 'f20_P', 'f20_Q', 'f20_R', 'f20_S', 'f20_T',\n",
       "       'f20_U', 'f20_V', 'f20_W', 'f20_X', 'f20_Y', 'f20_Z'],\n",
       "      dtype='object')"
      ]
     },
     "execution_count": 1,
     "metadata": {},
     "output_type": "execute_result"
    }
   ],
   "source": [
    "# try using proper train and test sets\n",
    "from sklearn.model_selection import train_test_split\n",
    "from category_encoders import TargetEncoder\n",
    "import pandas as pd\n",
    "\n",
    "challenge3_train = pd.read_csv('data/challenge3_train.csv')\n",
    "\n",
    "# handle categorical values\n",
    "# f12 is a difficult column, however all letter seem to be from the beginning of the alfabet\n",
    "# as a result, we want to try just converting the letters into numbers corresponding to their number in the alphabet\n",
    "\n",
    "char_conversion = {\n",
    "    'A': '1',\n",
    "    'B': '2',\n",
    "    'C': '3',\n",
    "    'D': '4',\n",
    "    'E': '5',\n",
    "    'F': '6',\n",
    "    'G': '7',\n",
    "    'H': '8',\n",
    "    'I': '9'\n",
    "}\n",
    "\n",
    "# converts a given string to int, eg. b0ab8b134 -> 201282134\n",
    "def convert_f12(s):\n",
    "    if not isinstance(s, str):\n",
    "        return s\n",
    "    for c in s:\n",
    "        if c.isalpha():\n",
    "            s = s.replace(c, char_conversion[c.upper()])\n",
    "    return int(s)\n",
    "\n",
    "challenge3_train['f12'] = challenge3_train['f12'].apply(convert_f12)\n",
    "\n",
    "# another difficult column is f28 because of its high cardinality, if we were to use get_dummies, there would be an insane amount of columns\n",
    "# in this column we will use target encoding, which is mean encoding with features to prevent bias\n",
    "encoder = TargetEncoder()\n",
    "challenge3_train['f28'] = encoder.fit_transform(challenge3_train['f12'], challenge3_train['target'])\n",
    "\n",
    "challenge3_train = pd.get_dummies(challenge3_train, columns=['f5', 'f15', 'f20'])\n",
    "\n",
    "challenge3_train.columns"
   ]
  },
  {
   "cell_type": "code",
   "execution_count": 2,
   "metadata": {},
   "outputs": [],
   "source": [
    "from sklearn.impute import SimpleImputer\n",
    "# split train set into a train and test set\n",
    "X = challenge3_train.drop(labels=['id', 'target'], axis=1)\n",
    "y = challenge3_train.target\n",
    "\n",
    "train_X, test_X, train_y, test_y = train_test_split(X, y, test_size=0.40)\n",
    "\n",
    "# drops imputing as xgboost handles it\n",
    "#my_imputer = SimpleImputer()\n",
    "#train_X = my_imputer.fit_transform(train_X)\n",
    "#test_X = my_imputer.transform(test_X)"
   ]
  },
  {
   "cell_type": "code",
   "execution_count": 3,
   "metadata": {},
   "outputs": [
    {
     "name": "stdout",
     "output_type": "stream",
     "text": [
      "CPU times: user 26.8 s, sys: 273 ms, total: 27.1 s\n",
      "Wall time: 8.93 s\n"
     ]
    }
   ],
   "source": [
    "%%time\n",
    "from xgboost import XGBRegressor\n",
    "from sklearn.metrics import roc_auc_score\n",
    "\n",
    "my_model = XGBRegressor()\n",
    "\n",
    "# fit new df to model\n",
    "my_model.fit(train_X, train_y, verbose=False)\n",
    "# generate predictions\n",
    "predictions = my_model.predict(test_X)\n",
    "#calculate score\n",
    "base_score = roc_auc_score(test_y, predictions)\n"
   ]
  },
  {
   "cell_type": "code",
   "execution_count": 4,
   "metadata": {},
   "outputs": [
    {
     "name": "stdout",
     "output_type": "stream",
     "text": [
      "0.9026095482926544\n"
     ]
    }
   ],
   "source": [
    "print(base_score)"
   ]
  },
  {
   "cell_type": "code",
   "execution_count": 16,
   "metadata": {},
   "outputs": [],
   "source": [
    "# As we can see, the score seems to be lower when replacing empty values with the most common value\n",
    "# Lets try to remove one column at a time, make predictions and compare the scores\n",
    "# Might seem stupid, but as the time for making the model and doing predictions is quite short, its fine\n",
    "\n",
    "def calc_column_contributions(train_X, train_y, test_X, test_y):\n",
    "    column_scores = {\n",
    "        'column' : [],\n",
    "        'score' : [],\n",
    "        'diff': [],\n",
    "    }\n",
    "\n",
    "    column_scores = pd.DataFrame(column_scores, columns=['column', 'score', 'diff'])\n",
    "\n",
    "\n",
    "    for col in train_X:\n",
    "        # drop each column one by one\n",
    "        train_df = train_X.drop(labels=[col], axis=1)\n",
    "        test_df = test_X.drop(labels=[col], axis=1)\n",
    "        # fit new df to model\n",
    "        my_model.fit(train_df, train_y, verbose=False)\n",
    "        # generate predictions\n",
    "        predictions = my_model.predict(test_df)\n",
    "        #calculate score\n",
    "        score = roc_auc_score(test_y, predictions)\n",
    "\n",
    "        diff = (base_score-score)\n",
    "\n",
    "        column_scores = column_scores.append(pd.DataFrame([[col,score, diff]], columns=['column', 'score', 'diff']), ignore_index=True)\n",
    "        \n",
    "    # If a column received a negative diff, it means the model did better without it\n",
    "    # Lets try one run using only the columns that achieved positive scores\n",
    "    column_scores = column_scores.sort_values('score', ascending=True)\n",
    "    column_scores.head()\n",
    "    \n",
    "    return column_scores\n",
    "    "
   ]
  },
  {
   "cell_type": "code",
   "execution_count": 19,
   "metadata": {},
   "outputs": [
    {
     "name": "stdout",
     "output_type": "stream",
     "text": [
      "   column     score      diff\n",
      "2      f2  0.902652 -0.000009\n",
      "21    f24  0.902672 -0.000029\n",
      "55  f20_W  0.902677 -0.000033\n",
      "45  f20_M  0.902683 -0.000039\n",
      "51  f20_S  0.902726 -0.000083\n",
      "39  f20_G  0.902733 -0.000089\n",
      "41  f20_I  0.902777 -0.000134\n",
      "43  f20_K  0.902834 -0.000190\n",
      "42  f20_J  0.902871 -0.000228\n",
      "27    f30  0.902947 -0.000304\n",
      "53  f20_U  0.902970 -0.000327\n",
      "58  f20_Z  0.903047 -0.000404\n",
      "10    f11  0.903182 -0.000538\n",
      "46  f20_N  0.903231 -0.000588\n",
      "13    f14  0.903245 -0.000601\n",
      "40  f20_H  0.903336 -0.000692\n",
      "36  f20_D  0.903411 -0.000767\n",
      "34  f20_B  0.903427 -0.000784\n",
      "24    f27  0.903438 -0.000794\n",
      "47  f20_O  0.903483 -0.000840\n",
      "50  f20_R  0.903503 -0.000860\n",
      "7      f8  0.903577 -0.000933\n",
      "54  f20_V  0.903855 -0.001211\n",
      "19    f22  0.904674 -0.002031\n",
      "26    f29  0.904768 -0.002125\n",
      "CPU times: user 23min 10s, sys: 3.02 s, total: 23min 13s\n",
      "Wall time: 6min 26s\n"
     ]
    }
   ],
   "source": [
    "%%time\n",
    "# If a column received a negative diff, it means the model did better without it\n",
    "column_scores = calc_column_contributions(train_X, train_y, test_X, test_y)\n",
    "column_scores.to_csv('column_scores.csv')\n",
    "\n",
    "negative_cols = column_scores.loc[column_scores['diff']<0]\n",
    "print(negative_cols)"
   ]
  },
  {
   "cell_type": "code",
   "execution_count": 25,
   "metadata": {},
   "outputs": [
    {
     "name": "stdout",
     "output_type": "stream",
     "text": [
      "0.9021366572804613\n",
      "CPU times: user 15.8 s, sys: 48.1 ms, total: 15.9 s\n",
      "Wall time: 4.42 s\n"
     ]
    }
   ],
   "source": [
    "%%time\n",
    "# Lets try dropping all negative columns\n",
    "negative_col_names = negative_cols['column']\n",
    "\n",
    "train_X_tuned = train_X.drop(labels=negative_col_names, axis=1)\n",
    "test_X_tuned = test_X.drop(labels=negative_col_names, axis=1)\n",
    "\n",
    "my_model = XGBRegressor()\n",
    "\n",
    "# fit new df to model\n",
    "my_model.fit(train_X_tuned, train_y, verbose=False)\n",
    "# generate predictions\n",
    "predictions = my_model.predict(test_X_tuned)\n",
    "#calculate score\n",
    "tuned_score = roc_auc_score(test_y, predictions)\n",
    "print(tuned_score)\n"
   ]
  },
  {
   "cell_type": "code",
   "execution_count": 19,
   "metadata": {},
   "outputs": [],
   "source": [
    "# Calculate ROC curve\n",
    "from sklearn.metrics import roc_curve, auc\n",
    "import matplotlib.pyplot as plt\n",
    "\n",
    "def print_roc_curve(test_y, predictions):\n",
    "    fpr, tpr, _ = roc_curve(test_y, predictions)\n",
    "    roc_auc = auc(fpr, tpr)\n",
    "    #xgb.plot_importance(gbm)\n",
    "    #plt.show()\n",
    "    plt.figure()\n",
    "    lw = 2\n",
    "    plt.plot(fpr, tpr, color='darkorange',\n",
    "             lw=lw, label='ROC curve (area = %0.2f)' % roc_auc)\n",
    "    plt.plot([0, 1], [0, 1], color='navy', lw=lw, linestyle='--')\n",
    "    plt.xlim([-0.02, 1.0])\n",
    "    plt.ylim([0.0, 1.05])\n",
    "    plt.xlabel('False Positive Rate')\n",
    "    plt.ylabel('True Positive Rate')\n",
    "    plt.title('ROC curve')\n",
    "    plt.legend(loc=\"lower right\")\n",
    "    plt.show()"
   ]
  },
  {
   "cell_type": "code",
   "execution_count": 20,
   "metadata": {},
   "outputs": [
    {
     "data": {
      "image/png": "[encoded data removed]",
      "text/plain": [
       "<Figure size 432x288 with 1 Axes>"
      ]
     },
     "metadata": {
      "needs_background": "light"
     },
     "output_type": "display_data"
    }
   ],
   "source": [
    "print_roc_curve(test_y, predictions)"
   ]
  },
  {
   "cell_type": "code",
   "execution_count": 22,
   "metadata": {},
   "outputs": [
    {
     "name": "stdout",
     "output_type": "stream",
     "text": [
      "0.9104458958086035\n",
      "CPU times: user 49.3 s, sys: 397 ms, total: 49.7 s\n",
      "Wall time: 15.7 s\n"
     ]
    }
   ],
   "source": [
    "%%time \n",
    "# now lets try tuning xgboost by letting it stop learning when the validation score stops improving, \n",
    "# and letting it cycle through the learning process until it does so\n",
    "\n",
    "my_model = XGBRegressor(n_estimators=1000, learning_rate=0.05)\n",
    "\n",
    "# fit new df to model\n",
    "my_model.fit(train_X, train_y, early_stopping_rounds=5, eval_set=[(test_X, test_y)], verbose=False)\n",
    "# generate predictions\n",
    "predictions = my_model.predict(test_X)\n",
    "#calculate score\n",
    "tuned_score = roc_auc_score(test_y, predictions)\n",
    "print(tuned_score)"
   ]
  },
  {
   "cell_type": "code",
   "execution_count": 23,
   "metadata": {},
   "outputs": [
    {
     "data": {
      "image/png": "[encoded data removed]",
      "text/plain": [
       "<Figure size 432x288 with 1 Axes>"
      ]
     },
     "metadata": {
      "needs_background": "light"
     },
     "output_type": "display_data"
    }
   ],
   "source": [
    "# we might have overfitted the model, and as a result we need to do cross validation\n",
    "# lets plot the roc curve again\n",
    "print_roc_curve(test_y, predictions)"
   ]
  },
  {
   "cell_type": "code",
   "execution_count": 1,
   "metadata": {},
   "outputs": [
    {
     "data": {
      "text/plain": [
       "\"\\nfrom sklearn.multiclass import OneVsRestClassifier\\nfrom sklearn import svm\\nfrom sklearn.impute import SimpleImputer\\n\\n# we will have to do imputation:\\nmy_imputer = SimpleImputer()\\ntrain_X = my_imputer.fit_transform(train_X)\\ntest_X = my_imputer.transform(test_X)\\n\\nclassifier = OneVsRestClassifier(svm.SVC(kernel='linear', probability=True))\\nonevrest_score = classifier.fit(train_X, train_y).decision_function(test_X)\\n\""
      ]
     },
     "execution_count": 1,
     "metadata": {},
     "output_type": "execute_result"
    }
   ],
   "source": [
    "# lets try another classification algorithm: OneVsRestClassifier\n",
    "# DONT RUN THIS, IT WILL NEVER STOP\n",
    "'''\n",
    "from sklearn.multiclass import OneVsRestClassifier\n",
    "from sklearn import svm\n",
    "from sklearn.impute import SimpleImputer\n",
    "\n",
    "# we will have to do imputation:\n",
    "my_imputer = SimpleImputer()\n",
    "train_X = my_imputer.fit_transform(train_X)\n",
    "test_X = my_imputer.transform(test_X)\n",
    "\n",
    "classifier = OneVsRestClassifier(svm.SVC(kernel='linear', probability=True))\n",
    "onevrest_score = classifier.fit(train_X, train_y).decision_function(test_X)\n",
    "'''"
   ]
  },
  {
   "cell_type": "code",
   "execution_count": null,
   "metadata": {},
   "outputs": [],
   "source": []
  }
 ],
 "metadata": {
  "kernelspec": {
   "display_name": "Python 3",
   "language": "python",
   "name": "python3"
  },
  "language_info": {
   "codemirror_mode": {
    "name": "ipython",
    "version": 3
   },
   "file_extension": ".py",
   "mimetype": "text/x-python",
   "name": "python",
   "nbconvert_exporter": "python",
   "pygments_lexer": "ipython3",
   "version": "3.8.5"
  }
 },
 "nbformat": 4,
 "nbformat_minor": 4
}
