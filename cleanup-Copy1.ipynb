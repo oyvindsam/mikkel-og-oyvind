{
 "cells": [
  {
   "cell_type": "code",
   "execution_count": 3,
   "metadata": {},
   "outputs": [],
   "source": [
    "import pandas as pd\n"
   ]
  },
  {
   "cell_type": "code",
   "execution_count": 4,
   "metadata": {},
   "outputs": [],
   "source": [
    "train = pd.read_csv('data/challenge3_train.csv')\n",
    "test = pd.read_csv('data/challenge3_test.csv')"
   ]
  },
  {
   "cell_type": "markdown",
   "metadata": {},
   "source": [
    "## First clean data for noise etc."
   ]
  },
  {
   "cell_type": "code",
   "execution_count": 5,
   "metadata": {},
   "outputs": [],
   "source": [
    "# Fix 0\n",
    "impute_0_with_most_common_columns = ['f3', 'f18', 'f21']\n",
    "\n",
    "for column in impute_0_with_most_common_columns:\n",
    "    train.loc[train[column] == 0, column] = train[column].mode() # mode() finds most common value\n",
    "    test.loc[test[column] == 0, column] = test[column].mode()"
   ]
  },
  {
   "cell_type": "markdown",
   "metadata": {},
   "source": [
    "## Generate features"
   ]
  },
  {
   "cell_type": "code",
   "execution_count": 4,
   "metadata": {},
   "outputs": [],
   "source": [
    "# One hot encoding\n",
    "train = pd.get_dummies(train, columns=['f5', 'f15', 'f20'])\n",
    "test = pd.get_dummies(test, columns=['f5', 'f15', 'f20'])"
   ]
  },
  {
   "cell_type": "code",
   "execution_count": null,
   "metadata": {},
   "outputs": [],
   "source": [
    "from sklearn.model_selection import train_test_split\n",
    "from category_encoders import TargetEncoder\n",
    "\n",
    "challenge3_train = pd.read_csv('data/challenge3_train.csv')\n",
    "\n",
    "# handle categorical values\n",
    "# f12 is a difficult column, however all letters seem to be from the beginning of the alfabet\n",
    "# as a result, we want to try just converting the letters into numbers corresponding to their number in the alphabet\n",
    "# New comment which needs to be merged!\n",
    "\n",
    "char_conversion = {\n",
    "    'A': '1',\n",
    "    'B': '2',\n",
    "    'C': '3',\n",
    "    'D': '4',\n",
    "    'E': '5',\n",
    "    'F': '6',\n",
    "    'G': '7',\n",
    "    'H': '8',\n",
    "    'I': '9'\n",
    "}\n",
    "\n",
    "# converts a given string to int, eg. b0ab8b134 -> 201282134\n",
    "def convert_f12(s):\n",
    "    if not isinstance(s, str):\n",
    "        return s\n",
    "    for c in s:\n",
    "        if c.isalpha():\n",
    "            s = s.replace(c, char_conversion[c.upper()])\n",
    "    return int(s)\n",
    "\n",
    "challenge3_train['f12'] = challenge3_train['f12'].apply(convert_f12)\n",
    "\n",
    "# another difficult column is f28 because of its high cardinality, if we were to use get_dummies, there would be an insane amount of columns\n",
    "# in this column we will use target encoding, which is mean encoding with features to prevent bias\n",
    "encoder = TargetEncoder()\n",
    "challenge3_train['f28'] = encoder.fit_transform(challenge3_train['f12'], challenge3_train['target'])\n",
    "\n",
    "challenge3_train = pd.get_dummies(challenge3_train, columns=['f5', 'f15', 'f20'])\n",
    "\n",
    "challenge3_train.dtypes"
   ]
  }
 ],
 "metadata": {
  "kernelspec": {
   "display_name": "Python 3",
   "language": "python",
   "name": "python3"
  },
  "language_info": {
   "codemirror_mode": {
    "name": "ipython",
    "version": 3
   },
   "file_extension": ".py",
   "mimetype": "text/x-python",
   "name": "python",
   "nbconvert_exporter": "python",
   "pygments_lexer": "ipython3",
   "version": "3.8.5"
  }
 },
 "nbformat": 4,
 "nbformat_minor": 4
}
