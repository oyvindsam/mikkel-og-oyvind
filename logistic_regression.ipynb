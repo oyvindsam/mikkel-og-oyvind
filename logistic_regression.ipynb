{
 "cells": [
  {
   "cell_type": "code",
   "execution_count": 34,
   "metadata": {},
   "outputs": [],
   "source": [
    "import pandas as pd\n",
    "import numpy as np\n",
    "from sklearn.model_selection import train_test_split\n",
    "from sklearn.impute import SimpleImputer\n",
    "from sklearn.metrics import roc_auc_score\n",
    "from category_encoders import TargetEncoder\n",
    "from xgboost import XGBRegressor\n",
    "\n",
    "train = pd.read_csv('data/challenge3_train.csv', index_col='id')\n",
    "test = pd.read_csv('data/challenge3_test.csv', index_col='id')\n",
    "full_data = pd.concat([train, test]).drop(columns=['target'])\n",
    "\n",
    "features_bin = ['f0', 'f26'] # binary\n",
    "features_nom_low = ['f5'] # nominal low cardinality (<=3)\n",
    "features_nom_high = ['f12', 'f28'] # >= 26\n",
    "features_ord_low = ['f1', 'f2', 'f3', 'f6', 'f9', 'f11', 'f13', 'f15', 'f17', 'f18', 'f19', 'f20', 'f21', 'f23', 'f24', 'f25', 'f27', 'f29']\n",
    "features_ord_num = ['f1', 'f2', 'f3', 'f6', 'f9', 'f11', 'f13', 'f17', 'f18', 'f19', 'f21', 'f23', 'f24', 'f25', 'f27', 'f29']\n",
    "features_ord_high = ['f4', 'f10', 'f14']\n",
    "features_real = ['f7', 'f8', 'f16', 'f22', 'f30'] # real numbers.\n",
    "\n",
    "\n",
    "features_ord_alph = ['f15', 'f20']\n",
    "ohe_columns = features_ord_alph + features_nom_low\n",
    "\n",
    "\n",
    "# Cleanup. This is doing data leakage though, when using information from test set..\n",
    "# Fix 0 value noise, change to most common value in column. \n",
    "impute_0_columns = ['f3', 'f18', 'f21']\n",
    "\n",
    "for column in impute_0_columns:\n",
    "    train.loc[train[column] == 0, column] = train[column].mode() # mode() finds most common value\n",
    "    test.loc[test[column] == 0, column] = test[column].mode()\n",
    "\n",
    "# remove -1 from 'month' column f11\n",
    "train.loc[train['f11'] == -1, 'f11'] = train['f11'].mode()\n",
    "test.loc[test['f11'] == -1, 'f11'] = test['f11'].mode()\n",
    "\n",
    "\n",
    "# Encoding\n",
    "# Alphabetic -> numbers (a=1, b=2 etc). f15, f20\n",
    "for col in features_ord_alph:\n",
    "    ord_order_dict = {i : j for j, i in enumerate(sorted(list(set(list(train[col].dropna().unique()) + list(test[col].dropna().unique())))))}\n",
    "    train[f'{col}_en'] = train[col].fillna('NULL').map(ord_order_dict)\n",
    "    test[f'{col}_en'] = test[col].fillna('NULL').map(ord_order_dict)\n",
    "\n",
    "    \n",
    "# One hot encoding\n",
    "train = pd.get_dummies(train, columns=ohe_columns + features_nom_high)\n",
    "test = pd.get_dummies(test, columns=ohe_columns)\n",
    "\n",
    "\n",
    "# add cyclical feature (f11 - month)\n",
    "def cyc_enc(df, col, max_vals):\n",
    "    df[col + '_sin'] = np.sin(2 * np.pi * df[col]/max_vals)\n",
    "    df[col + '_cos'] = np.cos(2 * np.pi * df[col]/max_vals)\n",
    "    return df\n",
    "train = cyc_enc(train, 'f11', 11)\n",
    "test = cyc_enc(test, 'f11', 11)\n",
    "\n",
    "# split train set into a train and test set\n",
    "X = train.drop(['target'], axis=1)\n",
    "y = train['target']\n",
    "\n",
    "train, test, target, y_test = train_test_split(X, y)\n"
   ]
  },
  {
   "cell_type": "code",
   "execution_count": 61,
   "metadata": {},
   "outputs": [
    {
     "name": "stdout",
     "output_type": "stream",
     "text": [
      "0.498851649706631\n"
     ]
    }
   ],
   "source": [
    "import numpy as np\n",
    "import pandas as pd\n",
    "import tensorflow as tf\n",
    "from sklearn.model_selection import train_test_split\n",
    "from sklearn.preprocessing import StandardScaler as scaler\n",
    "from sklearn.linear_model import LogisticRegression as lr\n",
    "from sklearn.pipeline import Pipeline\n",
    "from sklearn.metrics import roc_curve, roc_auc_score, classification_report, accuracy_score, confusion_matrix \n",
    "import seaborn as sns\n",
    "import matplotlib.pyplot as plt\n",
    "\n",
    "\n",
    "scaler = StandardScaler()\n",
    "lr = LogisticRegression()\n",
    "model1 = Pipeline([('standardize', scaler),\n",
    "                    ('log_reg', lr)])\n",
    "\n",
    "\n",
    "\n",
    "model1.fit(X_train, y_train)\n",
    "\n",
    "predictions = model1.predict(X_test)\n",
    "score = roc_auc_score(predictions, y_test)\n",
    "print(score)"
   ]
  },
  {
   "cell_type": "code",
   "execution_count": 62,
   "metadata": {},
   "outputs": [
    {
     "ename": "AttributeError",
     "evalue": "'numpy.ndarray' object has no attribute 'head'",
     "output_type": "error",
     "traceback": [
      "\u001b[0;31m---------------------------------------------------------------------------\u001b[0m",
      "\u001b[0;31mAttributeError\u001b[0m                            Traceback (most recent call last)",
      "\u001b[0;32m<ipython-input-62-c8ff277ea5c9>\u001b[0m in \u001b[0;36m<module>\u001b[0;34m\u001b[0m\n\u001b[0;32m----> 1\u001b[0;31m \u001b[0mX_test\u001b[0m\u001b[0;34m.\u001b[0m\u001b[0mhead\u001b[0m\u001b[0;34m(\u001b[0m\u001b[0;34m)\u001b[0m\u001b[0;34m\u001b[0m\u001b[0;34m\u001b[0m\u001b[0m\n\u001b[0m",
      "\u001b[0;31mAttributeError\u001b[0m: 'numpy.ndarray' object has no attribute 'head'"
     ]
    }
   ],
   "source": []
  },
  {
   "cell_type": "code",
   "execution_count": null,
   "metadata": {},
   "outputs": [],
   "source": []
  }
 ],
 "metadata": {
  "kernelspec": {
   "display_name": "Python 3",
   "language": "python",
   "name": "python3"
  },
  "language_info": {
   "codemirror_mode": {
    "name": "ipython",
    "version": 3
   },
   "file_extension": ".py",
   "mimetype": "text/x-python",
   "name": "python",
   "nbconvert_exporter": "python",
   "pygments_lexer": "ipython3",
   "version": "3.8.5"
  }
 },
 "nbformat": 4,
 "nbformat_minor": 4
}
