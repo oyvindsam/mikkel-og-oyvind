{
 "cells": [
  {
   "cell_type": "code",
   "execution_count": 1,
   "metadata": {},
   "outputs": [],
   "source": [
    "import pandas as pd\n",
    "from sklearn.model_selection import train_test_split\n"
   ]
  },
  {
   "cell_type": "code",
   "execution_count": 5,
   "metadata": {},
   "outputs": [],
   "source": [
    "train = pd.read_csv('data/challenge3_train.csv', index_col='id')\n",
    "test = pd.read_csv('data/challenge3_test.csv', index_col='id')\n",
    "full_data = pd.concat([train, test]).drop(columns=['target'])\n",
    "\n",
    "#X_train, X_test, y_train, y_test = train_test_split(train.drop(columns='target'), train['target'])"
   ]
  },
  {
   "cell_type": "code",
   "execution_count": 33,
   "metadata": {},
   "outputs": [],
   "source": [
    "features_bin = ['f0', 'f26'] # binary\n",
    "features_nom_low = ['f5'] # nominal low cardinality (<=3)\n",
    "features_nom_high = ['f12', 'f28'] # >= 26\n",
    "features_ord_low = ['f1', 'f2', 'f3', 'f6', 'f9', 'f11', 'f13', 'f15', 'f17', 'f18', 'f19', 'f20', 'f21', 'f23', 'f24', 'f25', 'f27', 'f29']\n",
    "features_ord_num = ['f1', 'f2', 'f3', 'f6', 'f9', 'f11', 'f13', 'f17', 'f18', 'f19', 'f21', 'f23', 'f24', 'f25', 'f27', 'f29']\n",
    "features_ord_high = ['f4', 'f10', 'f14']\n",
    "features_real = ['f7', 'f8', 'f16', 'f22', 'f30'] # real numbers.\n",
    "\n",
    "features_ord_alph = ['f15', 'f20']"
   ]
  },
  {
   "cell_type": "markdown",
   "metadata": {},
   "source": [
    "## First clean data for noise etc."
   ]
  },
  {
   "cell_type": "code",
   "execution_count": 6,
   "metadata": {},
   "outputs": [],
   "source": [
    "# Fix 0 value noise, change to most common value in column\n",
    "impute_0_columns = ['f3', 'f18', 'f21']\n",
    "\n",
    "for column in impute_0_columns:\n",
    "    train.loc[train[column] == 0, column] = train[column].mode() # mode() finds most common value\n",
    "    test.loc[test[column] == 0, column] = test[column].mode()"
   ]
  },
  {
   "cell_type": "code",
   "execution_count": null,
   "metadata": {},
   "outputs": [],
   "source": [
    "# cyclic -> sin cos (month). f11\n",
    "# ordinal with numbers: no need to do anything"
   ]
  },
  {
   "cell_type": "markdown",
   "metadata": {},
   "source": [
    "# Feature enfactorizeing"
   ]
  },
  {
   "cell_type": "code",
   "execution_count": 29,
   "metadata": {},
   "outputs": [],
   "source": [
    "# Alphabetic -> numbers (a-1, b-2 etc). f15, f20\n",
    "for col in features_ord_alph:\n",
    "    ord_order_dict = {i : j for j, i in enumerate(sorted(list(set(list(train[col].dropna().unique()) + list(test[col].dropna().unique())))))}\n",
    "    train[f'{col}_en'] = train[col].fillna('NULL').map(ord_order_dict)\n",
    "    test[f'{col}_en'] = test[col].fillna('NULL').map(ord_order_dict)"
   ]
  },
  {
   "cell_type": "code",
   "execution_count": 46,
   "metadata": {},
   "outputs": [],
   "source": [
    "# One hot encoding\n",
    "full_data = pd.get_dummies(full_data, columns=features_nom_low+features_nom_high)"
   ]
  },
  {
   "cell_type": "code",
   "execution_count": null,
   "metadata": {},
   "outputs": [],
   "source": [
    "from sklearn.model_selection import train_test_split\n",
    "from category_encoders import TargetEncoder\n",
    "\n",
    "\n",
    "# another difficult column is f28 because of its high cardinality, if we were to use get_dummies, there would be an insane amount of columns\n",
    "# in this column we will use target encoding, which is mean encoding with features to prevent bias\n",
    "encoder = TargetEncoder()\n",
    "challenge3_train['f28'] = encoder.fit_transform(challenge3_train['f12'], challenge3_train['target'])\n"
   ]
  }
 ],
 "metadata": {
  "kernelspec": {
   "display_name": "Python 3",
   "language": "python",
   "name": "python3"
  },
  "language_info": {
   "codemirror_mode": {
    "name": "ipython",
    "version": 3
   },
   "file_extension": ".py",
   "mimetype": "text/x-python",
   "name": "python",
   "nbconvert_exporter": "python",
   "pygments_lexer": "ipython3",
   "version": "3.8.5"
  }
 },
 "nbformat": 4,
 "nbformat_minor": 4
}
