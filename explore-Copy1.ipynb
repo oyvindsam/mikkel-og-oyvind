{
 "cells": [
  {
   "cell_type": "code",
   "execution_count": 1,
   "metadata": {},
   "outputs": [],
   "source": [
    "import pandas as pd\n",
    "import pandas_profiling\n",
    "import matplotlib.pyplot as plt\n"
   ]
  },
  {
   "cell_type": "code",
   "execution_count": 2,
   "metadata": {},
   "outputs": [
    {
     "name": "stdout",
     "output_type": "stream",
     "text": [
      "train: (50000, 33) | test: (50000, 32), all: (100000, 33)\n"
     ]
    },
    {
     "data": {
      "text/html": [
       "<div>\n",
       "<style scoped>\n",
       "    .dataframe tbody tr th:only-of-type {\n",
       "        vertical-align: middle;\n",
       "    }\n",
       "\n",
       "    .dataframe tbody tr th {\n",
       "        vertical-align: top;\n",
       "    }\n",
       "\n",
       "    .dataframe thead th {\n",
       "        text-align: right;\n",
       "    }\n",
       "</style>\n",
       "<table border=\"1\" class=\"dataframe\">\n",
       "  <thead>\n",
       "    <tr style=\"text-align: right;\">\n",
       "      <th></th>\n",
       "      <th>id</th>\n",
       "      <th>target</th>\n",
       "      <th>f0</th>\n",
       "      <th>f1</th>\n",
       "      <th>f2</th>\n",
       "      <th>f3</th>\n",
       "      <th>f4</th>\n",
       "      <th>f5</th>\n",
       "      <th>f6</th>\n",
       "      <th>f7</th>\n",
       "      <th>...</th>\n",
       "      <th>f21</th>\n",
       "      <th>f22</th>\n",
       "      <th>f23</th>\n",
       "      <th>f24</th>\n",
       "      <th>f25</th>\n",
       "      <th>f26</th>\n",
       "      <th>f27</th>\n",
       "      <th>f28</th>\n",
       "      <th>f29</th>\n",
       "      <th>f30</th>\n",
       "    </tr>\n",
       "  </thead>\n",
       "  <tbody>\n",
       "    <tr>\n",
       "      <th>0</th>\n",
       "      <td>0</td>\n",
       "      <td>1</td>\n",
       "      <td>0.0</td>\n",
       "      <td>5.0</td>\n",
       "      <td>0.0</td>\n",
       "      <td>4.0</td>\n",
       "      <td>3598.0</td>\n",
       "      <td>M</td>\n",
       "      <td>3.0</td>\n",
       "      <td>-7.2430</td>\n",
       "      <td>...</td>\n",
       "      <td>3.0</td>\n",
       "      <td>14.2364</td>\n",
       "      <td>0.0</td>\n",
       "      <td>NaN</td>\n",
       "      <td>4.0</td>\n",
       "      <td>1.0</td>\n",
       "      <td>5.0</td>\n",
       "      <td>PS</td>\n",
       "      <td>2.0</td>\n",
       "      <td>0.834041</td>\n",
       "    </tr>\n",
       "    <tr>\n",
       "      <th>1</th>\n",
       "      <td>1</td>\n",
       "      <td>0</td>\n",
       "      <td>NaN</td>\n",
       "      <td>5.0</td>\n",
       "      <td>4.0</td>\n",
       "      <td>NaN</td>\n",
       "      <td>2072.0</td>\n",
       "      <td>NaN</td>\n",
       "      <td>4.0</td>\n",
       "      <td>-1.6662</td>\n",
       "      <td>...</td>\n",
       "      <td>3.0</td>\n",
       "      <td>NaN</td>\n",
       "      <td>2.0</td>\n",
       "      <td>3.0</td>\n",
       "      <td>NaN</td>\n",
       "      <td>1.0</td>\n",
       "      <td>5.0</td>\n",
       "      <td>DT</td>\n",
       "      <td>5.0</td>\n",
       "      <td>0.686021</td>\n",
       "    </tr>\n",
       "  </tbody>\n",
       "</table>\n",
       "<p>2 rows × 33 columns</p>\n",
       "</div>"
      ],
      "text/plain": [
       "   id  target   f0   f1   f2   f3      f4   f5   f6      f7  ...  f21  \\\n",
       "0   0       1  0.0  5.0  0.0  4.0  3598.0    M  3.0 -7.2430  ...  3.0   \n",
       "1   1       0  NaN  5.0  4.0  NaN  2072.0  NaN  4.0 -1.6662  ...  3.0   \n",
       "\n",
       "       f22  f23  f24  f25  f26  f27 f28  f29       f30  \n",
       "0  14.2364  0.0  NaN  4.0  1.0  5.0  PS  2.0  0.834041  \n",
       "1      NaN  2.0  3.0  NaN  1.0  5.0  DT  5.0  0.686021  \n",
       "\n",
       "[2 rows x 33 columns]"
      ]
     },
     "execution_count": 2,
     "metadata": {},
     "output_type": "execute_result"
    }
   ],
   "source": [
    "train = pd.read_csv('data/challenge3_train.csv')\n",
    "test = pd.read_csv('data/challenge3_test.csv')\n",
    "data = pd.concat([train, test])\n",
    "print(f'train: {train.shape} | test: {test.shape}, all: {data.shape}')\n",
    "train.head(2)"
   ]
  },
  {
   "cell_type": "code",
   "execution_count": 3,
   "metadata": {},
   "outputs": [],
   "source": [
    "data = data.drop(['id', 'target'], axis=1)"
   ]
  },
  {
   "cell_type": "code",
   "execution_count": 7,
   "metadata": {},
   "outputs": [
    {
     "data": {
      "application/vnd.jupyter.widget-view+json": {
       "model_id": "3ce5cfb7286f4e7c9bff234b17ac172b",
       "version_major": 2,
       "version_minor": 0
      },
      "text/plain": [
       "HBox(children=(FloatProgress(value=0.0, description='Summarize dataset', max=48.0, style=ProgressStyle(descrip…"
      ]
     },
     "metadata": {},
     "output_type": "display_data"
    },
    {
     "name": "stdout",
     "output_type": "stream",
     "text": [
      "\n"
     ]
    },
    {
     "data": {
      "application/vnd.jupyter.widget-view+json": {
       "model_id": "e97ad2088221486894b5853a67583ae1",
       "version_major": 2,
       "version_minor": 0
      },
      "text/plain": [
       "HBox(children=(FloatProgress(value=0.0, description='Generate report structure', max=1.0, style=ProgressStyle(…"
      ]
     },
     "metadata": {},
     "output_type": "display_data"
    },
    {
     "name": "stdout",
     "output_type": "stream",
     "text": [
      "\n"
     ]
    },
    {
     "data": {
      "application/vnd.jupyter.widget-view+json": {
       "model_id": "01a92874a424446498d0c11008d559c5",
       "version_major": 2,
       "version_minor": 0
      },
      "text/plain": [
       "HBox(children=(FloatProgress(value=0.0, description='Render HTML', max=1.0, style=ProgressStyle(description_wi…"
      ]
     },
     "metadata": {},
     "output_type": "display_data"
    },
    {
     "name": "stdout",
     "output_type": "stream",
     "text": [
      "\n"
     ]
    },
    {
     "data": {
      "application/vnd.jupyter.widget-view+json": {
       "model_id": "6a2ff7c3971e4065b593310f888648f9",
       "version_major": 2,
       "version_minor": 0
      },
      "text/plain": [
       "HBox(children=(FloatProgress(value=0.0, description='Export report to file', max=1.0, style=ProgressStyle(desc…"
      ]
     },
     "metadata": {},
     "output_type": "display_data"
    },
    {
     "name": "stdout",
     "output_type": "stream",
     "text": [
      "\n"
     ]
    },
    {
     "data": {
      "application/vnd.jupyter.widget-view+json": {
       "model_id": "2c3d8f00781c42088800b04310e2ee61",
       "version_major": 2,
       "version_minor": 0
      },
      "text/plain": [
       "HBox(children=(FloatProgress(value=0.0, description='Summarize dataset', max=48.0, style=ProgressStyle(descrip…"
      ]
     },
     "metadata": {},
     "output_type": "display_data"
    },
    {
     "name": "stdout",
     "output_type": "stream",
     "text": [
      "\n"
     ]
    },
    {
     "data": {
      "application/vnd.jupyter.widget-view+json": {
       "model_id": "5d16a53b021541b0a3c17ffbeea125c2",
       "version_major": 2,
       "version_minor": 0
      },
      "text/plain": [
       "HBox(children=(FloatProgress(value=0.0, description='Generate report structure', max=1.0, style=ProgressStyle(…"
      ]
     },
     "metadata": {},
     "output_type": "display_data"
    },
    {
     "name": "stdout",
     "output_type": "stream",
     "text": [
      "\n"
     ]
    },
    {
     "data": {
      "application/vnd.jupyter.widget-view+json": {
       "model_id": "c48b1bf653764eaa97f3ea2570cb5441",
       "version_major": 2,
       "version_minor": 0
      },
      "text/plain": [
       "HBox(children=(FloatProgress(value=0.0, description='Render HTML', max=1.0, style=ProgressStyle(description_wi…"
      ]
     },
     "metadata": {},
     "output_type": "display_data"
    },
    {
     "name": "stdout",
     "output_type": "stream",
     "text": [
      "\n"
     ]
    },
    {
     "data": {
      "application/vnd.jupyter.widget-view+json": {
       "model_id": "58ccb7afac95455dbb00995641e587a4",
       "version_major": 2,
       "version_minor": 0
      },
      "text/plain": [
       "HBox(children=(FloatProgress(value=0.0, description='Export report to file', max=1.0, style=ProgressStyle(desc…"
      ]
     },
     "metadata": {},
     "output_type": "display_data"
    },
    {
     "name": "stdout",
     "output_type": "stream",
     "text": [
      "\n"
     ]
    }
   ],
   "source": [
    "# Generate reports\n",
    "#pandas_profiling.ProfileReport(train, minimal=False).to_file('train_report.html')\n",
    "#pandas_profiling.ProfileReport(test, minimal=False).to_file('test_report_small.html')\n",
    "\n",
    "# Report for 1/0 class\n",
    "#pandas_profiling.ProfileReport(train[train['target'] == 1], minimal=False).to_file('train_1_report.html')\n",
    "#pandas_profiling.ProfileReport(train[train['target'] == 0], minimal=False).to_file('train_0_report.html')\n"
   ]
  },
  {
   "cell_type": "markdown",
   "metadata": {},
   "source": [
    "Comparing train and test data: \n",
    "From reports we see f13 has different data distribution; more outliers around 28 and 60.\n",
    "\n",
    "\n",
    "High corelevance with f10 and f14\n",
    "\n",
    "Categorical:\n",
    "f5: M, F\n",
    "f15: A, B, C\n",
    "f20: A-Z\n",
    "\n",
    "## Compare 1/0 target class\n",
    "#### 1 target:\n",
    "- correlations (which are not present in other target): \n",
    "    - f21-f6 (very high). f21: 1-5, uniform distributiuon (target 0 is more normal-like). f6: 0-5, bit skewed to the right uniform dist. \n",
    "    - f25-f6 f25: uniform-ish except 0. \n",
    "    - f26-f4. f26: boolean, many 1. f4: real, lower mean, std\n",
    "#### 0 target:\n",
    "- correlations:\n",
    "    - f26-f0. f26: bool, more are false than target 1. f0: bool\n",
    "    - f26-f6. f6: 0-5, 4 most common, higher mean than t1. \n"
   ]
  },
  {
   "cell_type": "code",
   "execution_count": 20,
   "metadata": {},
   "outputs": [
    {
     "name": "stdout",
     "output_type": "stream",
     "text": [
      "Percentage of feature values being NaN\n"
     ]
    },
    {
     "data": {
      "image/png": "[encoded data removed]",
      "text/plain": [
       "<Figure size 432x288 with 1 Axes>"
      ]
     },
     "metadata": {
      "needs_background": "light"
     },
     "output_type": "display_data"
    }
   ],
   "source": [
    "print('Percentage of feature values being NaN')\n",
    "nans = data.isna().sum().map(lambda x: x / len(data) * 100).round(1).plot(kind='bar')"
   ]
  },
  {
   "cell_type": "code",
   "execution_count": 24,
   "metadata": {},
   "outputs": [
    {
     "name": "stdout",
     "output_type": "stream",
     "text": [
      "Column f0\n",
      "Values: [ 0. nan  1.]\n",
      "Number of unique: 3\n",
      "\n",
      "\n",
      "Column f1\n",
      "Values: [ 5.  1. nan  2.  3.  4.  0.]\n",
      "Number of unique: 7\n",
      "\n",
      "\n",
      "Column f2\n",
      "Values: [ 0.  4.  2. nan  3.  5.  1.]\n",
      "Number of unique: 7\n",
      "\n",
      "\n",
      "Column f3\n",
      "Values: [ 4. nan  2.  1.  3.  5.  0.]\n",
      "Number of unique: 7\n",
      "\n",
      "\n",
      "Column f4\n",
      "Values: [3598. 2072.  862. ... 1261. 1257.  518.]\n",
      "Number of unique: 3768\n",
      "\n",
      "\n",
      "Column f5\n",
      "Values: ['M' nan 'F']\n",
      "Number of unique: 3\n",
      "\n",
      "\n",
      "Column f6\n",
      "Values: [ 3.  4.  5. nan  1.  0.  2.]\n",
      "Number of unique: 7\n",
      "\n",
      "\n",
      "Column f7\n",
      "Values: [ -7.243   -1.6662  -0.12   ...  -6.8409  -5.4951 -10.1088]\n",
      "Number of unique: 67092\n",
      "\n",
      "\n",
      "Column f8\n",
      "Values: [13.9681 14.0242 14.2174 ... 13.803  14.6088 13.8286]\n",
      "Number of unique: 8176\n",
      "\n",
      "\n",
      "Column f9\n",
      "Values: [ 3.  0.  1.  5. nan  2.  4.]\n",
      "Number of unique: 7\n",
      "\n",
      "\n",
      "Column f10\n",
      "Values: [0.000e+00 3.200e+01 5.000e+00 8.400e+01 1.200e+01 1.700e+01 1.900e+01\n",
      " 5.240e+02 1.100e+01 2.200e+01 3.800e+01 4.500e+01 3.000e+00 2.000e+00\n",
      " 6.000e+00 4.000e+00 2.900e+01 9.100e+01 5.000e+01 7.000e+00 7.200e+01\n",
      " 5.100e+01 1.600e+01 3.500e+01 4.600e+01 2.700e+01 1.030e+02 8.000e+00\n",
      " 5.200e+01 3.400e+01 1.500e+01 9.000e+00 2.000e+01       nan 1.000e+01\n",
      " 4.200e+01 6.400e+01 1.450e+02 9.500e+01 1.400e+01 6.100e+01 3.600e+01\n",
      " 7.000e+01 1.300e+01 2.100e+01 2.300e+01 6.000e+01 4.000e+01 1.350e+02\n",
      " 3.370e+02 1.000e+00 1.380e+02 2.600e+01 9.700e+01 6.500e+01 1.070e+02\n",
      " 5.900e+01 6.900e+01 2.500e+01 3.300e+01 2.220e+02 3.000e+01 5.600e+01\n",
      " 4.800e+01 1.140e+02 3.100e+01 2.400e+01 2.030e+02 2.800e+01 1.740e+02\n",
      " 4.300e+01 3.900e+01 1.560e+02 1.150e+02 7.400e+01 4.400e+01 1.260e+02\n",
      " 4.900e+01 1.050e+02 5.700e+01 7.300e+01 1.900e+02 1.520e+02 5.400e+01\n",
      " 1.800e+01 1.530e+02 1.100e+02 4.700e+01 4.100e+01 7.500e+01 5.500e+01\n",
      " 1.060e+02 1.750e+02 2.330e+02 7.700e+01 7.900e+01 1.710e+02 1.240e+02\n",
      " 1.190e+02 6.200e+01 9.800e+01 2.040e+02 1.670e+02 1.720e+02 1.690e+02\n",
      " 1.870e+02 2.810e+02 1.470e+02 1.390e+02 1.970e+02 1.250e+02 1.090e+02\n",
      " 5.300e+01 1.950e+02 9.300e+01 3.190e+02 1.000e+02 6.700e+01 1.650e+02\n",
      " 9.400e+01 1.820e+02 6.300e+01 1.290e+02 2.520e+02 3.700e+01 8.200e+01\n",
      " 2.120e+02 6.600e+01 3.290e+02 1.040e+02 3.260e+02 9.000e+01 1.370e+02\n",
      " 7.600e+01 7.800e+01 1.730e+02 2.620e+02 2.830e+02 1.340e+02 3.130e+02\n",
      " 1.280e+02 9.900e+01 2.280e+02 6.800e+01 1.640e+02 4.400e+02 1.210e+02\n",
      " 5.800e+01 4.700e+02 1.020e+02 1.200e+02 1.180e+02 1.620e+02 8.800e+01\n",
      " 7.100e+01 1.500e+02 1.170e+02 1.160e+02 2.610e+02 8.300e+01 8.100e+01\n",
      " 2.130e+02 1.320e+02 1.230e+02 1.460e+02 4.340e+02 2.500e+02 1.880e+02\n",
      " 2.190e+02 2.000e+02 3.090e+02 1.420e+02 2.380e+02 1.080e+02 2.230e+02\n",
      " 1.790e+02 1.700e+02 1.330e+02 2.340e+02 8.900e+01 1.830e+02 2.970e+02\n",
      " 1.850e+02 1.490e+02 1.130e+02 1.110e+02 1.220e+02 8.700e+01 1.570e+02\n",
      " 1.430e+02 2.160e+02 8.500e+01 4.380e+02 8.600e+01 1.610e+02 8.000e+01\n",
      " 1.480e+02 2.290e+02 1.270e+02 2.580e+02 9.200e+01 1.310e+02 1.120e+02\n",
      " 1.360e+02 2.390e+02 9.600e+01 1.890e+02 2.720e+02 4.160e+02 2.420e+02\n",
      " 1.770e+02 1.590e+02 1.010e+02 2.550e+02 2.870e+02 1.660e+02 2.070e+02\n",
      " 1.410e+02 2.710e+02 1.930e+02 2.020e+02 1.910e+02 1.800e+02 2.430e+02\n",
      " 4.070e+02 2.050e+02 3.740e+02 1.920e+02 3.150e+02 1.580e+02 1.960e+02\n",
      " 2.170e+02 3.340e+02 3.500e+02 2.630e+02 9.200e+02 4.450e+02 1.760e+02\n",
      " 1.600e+02 2.200e+02 3.180e+02 2.110e+02 2.060e+02 1.540e+02 1.400e+02\n",
      " 1.780e+02 4.430e+02 4.440e+02 1.860e+02 2.560e+02 3.860e+02 4.020e+02\n",
      " 9.520e+02 2.600e+02 1.680e+02 1.510e+02 3.420e+02 2.820e+02 2.300e+02\n",
      " 2.350e+02 4.860e+02 2.270e+02 2.530e+02 3.140e+02 3.210e+02 2.990e+02\n",
      " 2.150e+02 2.790e+02 3.810e+02 2.650e+02 2.680e+02 2.470e+02 1.810e+02\n",
      " 1.300e+02 5.670e+02 1.940e+02 2.440e+02 4.270e+02 3.480e+02 3.050e+02\n",
      " 1.550e+02 6.040e+02 3.830e+02 2.930e+02 3.170e+02 2.490e+02 8.230e+02\n",
      " 2.770e+02 2.400e+02 2.700e+02 3.580e+02 1.440e+02 2.210e+02 3.270e+02\n",
      " 3.380e+02 6.910e+02 4.060e+02 2.100e+02 1.990e+02 4.010e+02 3.230e+02\n",
      " 6.000e+02 2.010e+02 2.080e+02 2.090e+02 2.640e+02 1.840e+02 2.910e+02\n",
      " 4.090e+02 2.310e+02 1.630e+02 3.630e+02 2.320e+02 1.011e+03 3.160e+02\n",
      " 2.370e+02 2.880e+02 2.730e+02 2.260e+02 3.890e+02 1.280e+03 2.250e+02\n",
      " 2.740e+02 3.970e+02 5.070e+02 3.550e+02 2.240e+02 7.200e+02 4.480e+02\n",
      " 3.570e+02 3.520e+02 3.560e+02 3.800e+02 3.950e+02 2.960e+02 2.410e+02\n",
      " 1.980e+02 3.910e+02 2.140e+02 3.930e+02 2.570e+02 2.760e+02 3.410e+02\n",
      " 3.220e+02 3.020e+02 2.850e+02 3.620e+02 4.590e+02 2.840e+02 5.020e+02\n",
      " 3.010e+02 4.350e+02 2.590e+02 4.200e+02 2.450e+02 3.040e+02 6.380e+02\n",
      " 3.240e+02 3.300e+02 4.600e+02 3.590e+02 3.600e+02 2.860e+02 9.240e+02\n",
      " 2.780e+02 3.510e+02 4.250e+02 1.584e+03 3.110e+02 3.070e+02 3.360e+02\n",
      " 2.540e+02 8.600e+02 2.180e+02 3.700e+02 7.290e+02 2.950e+02 2.660e+02\n",
      " 3.920e+02 4.580e+02 2.890e+02 4.240e+02 4.100e+02 3.720e+02 2.980e+02\n",
      " 3.770e+02 5.030e+02 3.100e+02 9.700e+02 3.530e+02 3.200e+02 3.450e+02\n",
      " 2.940e+02 2.920e+02 2.800e+02 5.000e+02 3.820e+02 3.640e+02 2.360e+02\n",
      " 2.750e+02 5.180e+02 2.460e+02 5.160e+02 4.930e+02 3.490e+02 3.710e+02\n",
      " 2.900e+02 3.850e+02 4.460e+02 3.460e+02 3.880e+02 3.540e+02 5.550e+02\n",
      " 5.610e+02 3.000e+02 2.510e+02 4.030e+02 7.050e+02 4.310e+02 4.840e+02\n",
      " 2.690e+02 2.480e+02 3.390e+02 3.470e+02 7.170e+02 3.990e+02 4.540e+02\n",
      " 3.690e+02 3.660e+02 6.240e+02 5.930e+02 4.320e+02 4.330e+02 3.310e+02\n",
      " 2.670e+02 5.890e+02 4.850e+02 3.350e+02 4.170e+02 3.120e+02 4.290e+02\n",
      " 4.710e+02 4.040e+02 3.790e+02 7.020e+02 3.060e+02 4.180e+02 4.360e+02\n",
      " 3.080e+02 3.030e+02 4.220e+02 4.120e+02]\n",
      "Number of unique: 452\n",
      "\n",
      "\n",
      "Column f11\n",
      "Values: [nan  7. 10. 11.  6.  5.  4.  8.  3.  9.  0.  2.  1. -1.]\n",
      "Number of unique: 14\n",
      "\n",
      "\n",
      "Column f12\n",
      "Values: ['1d2ee04de' 'e06abf51f' '5d1ac7760' 'b0ab8b134' '0764632bc' '018382adf'\n",
      " '6536122f4' '58a27d7e7' '833d88c6c' 'cf84cbe77' 'b2151e2cd' nan\n",
      " '11409e362' '942593b74' '088aace2d' 'a42fb9969' 'f14f5e4a5' '857cbf8c7'\n",
      " '41afb892d' '623908296' '0c208bfa0' '3ef3018d3' '68b2de491' 'ba9faf5b1'\n",
      " '7e1c4cff1' '8781919c2' '81d67e1bb' '1bd74ace9' '216083343' '8da514edb'\n",
      " '77706a5ee' '00a7f9a05' '67a8d4ebb' 'debb0f7ec' '2c649f60e' '934155e05'\n",
      " '20b56638c' '443cdbd48' 'fdebf0648' '3afd3697d' 'ba16219f4' '16fa03dee'\n",
      " '8bc849561' '74a864a6b' '7fcdbac1d' '362507ea5' '12370b989' '1c756c04a'\n",
      " 'e4340c326' '3d9d8f526' '0e4d3318a' 'bc9cc2a94' 'a306b1f4e' '768bc4738'\n",
      " '237fdf58b' 'c79d2197d' '0eb5e9781' '93360bbc9' '0304a1b60' '2786e24d2'\n",
      " '688888fbe' '3f63ecb96' '86ec768cd' 'b519f5dff' '2aeb8ae84' 'e61c53286'\n",
      " '3599d0255' 'bb63fcef7' '4ae48e857' '8c9b654fe' '303f4e39a' 'ece4087ec'\n",
      " '41901460a' 'f12d5e8c0' '5e17197af' 'a0730843f' '9b35d8994' '4b13d99ca'\n",
      " '56d35c774' 'cb681246b' 'cd9feb5c6' '51e1131b4' '8d857a0a1' 'ffe61f9f6'\n",
      " '057ab40ea' 'd40ca0718' '6e29d3f38' '21955ee26' 'c5f7d2efd' 'f74f0b894'\n",
      " 'd3d8f55e0' '22a1b223f' '85fb6971c' '69403e18c' 'fba315672' 'e5b00a0e0'\n",
      " '429114096' 'a7059911d' '6bc753dd6' '8402256f6' 'fff8dea99' '01103c3e4'\n",
      " 'b97010abc' '5622ee17f' '199d01a7f' '31a3c86df' '4617418f2' '7ab87e58e'\n",
      " 'ead914edc' '0ffdb2c15' '230229e51' 'e44e2dea4' '3c415c2b7' 'e59dd3e27'\n",
      " '8a528cb08' 'c3ad85934' 'd2ecbd100' '1bf2f7824' '4f0a50007' '1dddb8473'\n",
      " '5d5b262b1' 'ab85a7b9c' '3600c6e91' 'f94d9babd' '69238b544' '9a9e7bf71'\n",
      " '1cba571fa' '9fed600dc' '7f6fad56e' 'b4d7d7c94' '2c4f9614e' '7f31f4d2b'\n",
      " '99cb99a50' '8157480dd' '63ab45432' '83bdea3a5' 'e3342b01a' 'b2d0012ea'\n",
      " '8a382f14d' '3d449d3e8' '9294ac66b' '28547ea20' '482233c7f' '728490578'\n",
      " '2b2108e9e' '1828818ab' '5ddc9a726' 'b4eb50264' '27560c3a3' 'c273b5ace'\n",
      " '0da2378c8' '580231f65' '7684d9eb7' 'e60e65034' '9d4a94d03' 'dd4d69481'\n",
      " '598080a91' '5627228e9' '51a4ac0be' 'b4678a59e' '2506ce93d' '6602f7bf5'\n",
      " '114b1dbf3' 'd8c3cfd78' '82d196aa1' '81b479cc3' '964fd0850' '6b1d5295a'\n",
      " 'c9aaf28b7' '909943002' '91208fa55' 'adbdefba3' '97bb3e7fa' '42c7572b4'\n",
      " '3efdc7987' '082e2b9ae' '40bdb3373' '25eb75323' 'ec4b54637' '1ba4e8ff1'\n",
      " '6b56b4325' '3a33ef960' '190522cfb' '432ee0053' '8c30b9b0b' '7b21ee165'\n",
      " '6c7aa4dc4' '54f62d537' '7bf938847' '4b41ba86c' '3f2e87b23' 'f313d1e52'\n",
      " '567934479' '8fc780921' '90a2cba07' 'cb47f665d' '4be936718' 'afac5238e'\n",
      " '9d52e9089' '9289b1aab' '75d0e3ef8' 'd7f06353a' '3065f26f4' '42f607baa'\n",
      " '1eb783b97' 'ac365406b' '5de0b3fa7' '7b4b2eabf' '83c994142' '8dbc78da5'\n",
      " '84b44fe42' '16e07c05c' 'e371063e2' '545ad7c80' '94d34d287' 'a8cfb0795'\n",
      " 'b39008216' '3d2d50707' '2fa636740' '49ae7bdc0' '8046bea1a' 'deec583dd'\n",
      " 'e9c57c4aa']\n",
      "Number of unique: 223\n",
      "\n",
      "\n",
      "Column f13\n",
      "Values: [47. nan 40. 63. 43. 23. 32. 45. 33. 56. 62. 61. 17. 30. 77. 52. 57. 55.\n",
      " 44. 27. 35. 21. 46. 15. 49. 67. 59. 36. 42. 68. 39. 50. 31. 48. 66. 54.\n",
      " 60. 37. 69. 29. 79. 11. 20. 51. 24. 28. 34. 22. 25. 58. 65. 41. 12. 53.\n",
      " 76. 71. 16. 38.  4. 73. 19. 64. 72. 74. 87. 14. 18. 81. 26. 70. 75.  8.\n",
      "  7. 13. 78. 10. 85. 82.  9.  5.  3. 89. 83. 86. 80. 84.  6. 92. 88. 97.\n",
      " -5. 90. 91. 93. -1.  2.  1. -6. 96. 94. 98. -2. 95.  0.]\n",
      "Number of unique: 104\n",
      "\n",
      "\n",
      "Column f14\n",
      "Values: [0.000e+00       nan 6.000e+00 1.000e+01 8.300e+01 1.400e+01 8.000e+00\n",
      " 2.400e+01 1.200e+01 5.000e+01 5.400e+01 3.000e+00 9.000e+00 1.000e+02\n",
      " 5.100e+01 4.500e+01 2.000e+00 5.600e+01 5.000e+00 4.300e+01 3.200e+01\n",
      " 1.200e+02 1.500e+01 2.100e+01 2.600e+01 6.700e+01 3.000e+01 5.500e+01\n",
      " 5.900e+01 1.320e+02 5.800e+01 1.700e+01 7.800e+01 6.200e+01 2.300e+01\n",
      " 2.200e+01 1.600e+01 1.000e+00 2.500e+01 4.000e+01 7.000e+00 3.100e+01\n",
      " 1.100e+01 4.200e+01 4.000e+00 1.420e+02 3.280e+02 1.610e+02 1.010e+02\n",
      " 7.300e+01 1.800e+01 6.100e+01 7.200e+01 3.700e+01 1.250e+02 1.900e+01\n",
      " 2.000e+01 2.090e+02 1.300e+01 3.600e+01 1.810e+02 2.900e+01 2.120e+02\n",
      " 4.100e+01 1.590e+02 6.800e+01 3.400e+01 6.500e+01 1.130e+02 4.800e+01\n",
      " 9.400e+01 6.000e+01 7.600e+01 1.920e+02 3.300e+01 4.600e+01 1.090e+02\n",
      " 5.300e+01 4.400e+01 2.620e+02 9.500e+01 3.500e+01 7.500e+01 5.700e+01\n",
      " 7.700e+01 4.700e+01 7.100e+01 1.230e+02 2.100e+02 1.790e+02 1.710e+02\n",
      " 7.400e+01 2.500e+02 1.290e+02 1.410e+02 6.900e+01 3.900e+01 1.390e+02\n",
      " 3.390e+02 1.080e+02 1.830e+02 4.900e+01 6.400e+01 7.900e+01 7.000e+01\n",
      " 1.340e+02 2.700e+01 2.800e+02 2.800e+01 1.450e+02 8.800e+01 3.800e+01\n",
      " 3.080e+02 3.340e+02 6.600e+01 1.440e+02 1.730e+02 1.180e+02 2.860e+02\n",
      " 1.640e+02 9.000e+01 2.990e+02 1.060e+02 2.140e+02 1.350e+02 1.120e+02\n",
      " 9.100e+01 1.510e+02 4.270e+02 1.280e+02 1.310e+02 1.600e+02 5.200e+01\n",
      " 4.960e+02 1.070e+02 1.190e+02 1.560e+02 2.350e+02 9.900e+01 6.300e+01\n",
      " 8.400e+01 1.750e+02 1.260e+02 1.160e+02 1.680e+02 2.410e+02 1.020e+02\n",
      " 8.600e+01 2.250e+02 1.840e+02 8.200e+01 4.440e+02 2.310e+02 9.700e+01\n",
      " 2.790e+02 1.110e+02 1.050e+02 1.480e+02 2.430e+02 1.380e+02 9.800e+01\n",
      " 9.600e+01 1.670e+02 1.100e+02 8.700e+01 3.150e+02 1.800e+02 1.630e+02\n",
      " 1.580e+02 9.200e+01 1.040e+02 4.380e+02 8.100e+01 1.330e+02 2.300e+02\n",
      " 1.570e+02 2.270e+02 1.700e+02 1.210e+02 1.490e+02 8.900e+01 1.400e+02\n",
      " 2.220e+02 1.660e+02 1.760e+02 1.940e+02 8.000e+01 2.180e+02 2.870e+02\n",
      " 9.300e+01 1.270e+02 4.200e+02 1.030e+02 1.470e+02 1.770e+02 1.360e+02\n",
      " 2.260e+02 2.380e+02 1.370e+02 1.960e+02 8.500e+01 1.520e+02 2.710e+02\n",
      " 1.970e+02 2.200e+02 1.650e+02 1.860e+02 2.210e+02 1.170e+02 1.690e+02\n",
      " 3.090e+02 1.240e+02 1.430e+02 1.140e+02 3.030e+02 1.890e+02 1.460e+02\n",
      " 3.410e+02 3.450e+02 2.600e+02 9.330e+02 1.870e+02 3.500e+02 2.110e+02\n",
      " 2.040e+02 1.930e+02 1.530e+02 1.540e+02 2.020e+02 4.690e+02 4.520e+02\n",
      " 2.590e+02 1.820e+02 3.840e+02 9.300e+02 2.170e+02 1.150e+02 2.650e+02\n",
      " 2.010e+02 1.220e+02 2.420e+02 1.500e+02 2.930e+02 2.360e+02 2.050e+02\n",
      " 5.050e+02 3.180e+02 3.170e+02 1.780e+02 2.060e+02 1.550e+02 2.880e+02\n",
      " 1.300e+02 2.580e+02 3.640e+02 3.260e+02 1.740e+02 2.760e+02 2.460e+02\n",
      " 3.110e+02 5.700e+02 4.260e+02 3.300e+02 2.820e+02 1.990e+02 1.720e+02\n",
      " 1.850e+02 6.260e+02 3.650e+02 2.910e+02 2.190e+02 8.530e+02 3.730e+02\n",
      " 1.950e+02 2.510e+02 1.620e+02 3.400e+02 7.260e+02 2.890e+02 2.640e+02\n",
      " 3.360e+02 1.900e+02 1.880e+02 3.600e+02 2.290e+02 2.630e+02 3.220e+02\n",
      " 3.190e+02 2.490e+02 2.320e+02 2.700e+02 2.740e+02 4.020e+02 2.480e+02\n",
      " 2.980e+02 2.030e+02 2.690e+02 2.230e+02 2.470e+02 2.660e+02 1.980e+02\n",
      " 2.150e+02 2.560e+02 4.100e+02 5.030e+02 7.480e+02 4.540e+02 3.680e+02\n",
      " 2.000e+02 2.330e+02 3.140e+02 3.620e+02 3.880e+02 2.070e+02 3.290e+02\n",
      " 2.670e+02 3.240e+02 3.550e+02 3.630e+02 3.330e+02 3.510e+02 2.960e+02\n",
      " 4.140e+02 3.380e+02 2.750e+02 2.340e+02 3.940e+02 2.240e+02 3.890e+02\n",
      " 3.120e+02 2.390e+02 6.520e+02 2.280e+02 3.040e+02 4.190e+02 3.470e+02\n",
      " 3.270e+02 2.730e+02 2.160e+02 3.900e+02 9.210e+02 2.770e+02 2.540e+02\n",
      " 3.070e+02 3.480e+02 4.110e+02 1.592e+03 2.450e+02 2.440e+02 8.590e+02\n",
      " 3.530e+02 7.500e+02 3.060e+02 3.820e+02 3.580e+02 3.780e+02 3.710e+02\n",
      " 3.020e+02 1.910e+02 2.080e+02 2.400e+02 3.130e+02 3.980e+02 3.310e+02\n",
      " 3.370e+02 2.530e+02 2.550e+02 9.780e+02 2.950e+02 3.810e+02 4.150e+02\n",
      " 3.100e+02 3.430e+02 3.010e+02 2.370e+02 5.010e+02 3.700e+02 3.420e+02\n",
      " 4.370e+02 2.900e+02 3.230e+02 5.190e+02 4.650e+02 2.720e+02 2.940e+02\n",
      " 2.130e+02 2.970e+02 2.850e+02 4.720e+02 2.830e+02 3.910e+02 3.160e+02\n",
      " 5.590e+02 3.960e+02 2.520e+02 4.460e+02 3.460e+02 7.290e+02 4.300e+02\n",
      " 4.010e+02 5.140e+02 2.810e+02 4.500e+02 6.100e+02 3.990e+02 4.470e+02\n",
      " 5.950e+02 5.310e+02 4.070e+02 4.230e+02 4.350e+02 2.920e+02 3.590e+02\n",
      " 4.290e+02 4.910e+02 4.800e+02 2.570e+02 4.000e+02]\n",
      "Number of unique: 418\n",
      "\n",
      "\n",
      "Column f15\n",
      "Values: ['A' nan 'B' 'C']\n",
      "Number of unique: 4\n",
      "\n",
      "\n",
      "Column f16\n",
      "Values: [0.85831495 0.61674298 0.71138905 ... 1.01391507 1.1966767  0.56253558]\n",
      "Number of unique: 28329\n",
      "\n",
      "\n",
      "Column f17\n",
      "Values: [ 3.  0.  4.  1. nan  5.  2.]\n",
      "Number of unique: 7\n",
      "\n",
      "\n",
      "Column f18\n",
      "Values: [ 4.  2. nan  5.  3.  1.  0.]\n",
      "Number of unique: 7\n",
      "\n",
      "\n",
      "Column f19\n",
      "Values: [ 5.  1. nan  0.  4.  3.  2.]\n",
      "Number of unique: 7\n",
      "\n",
      "\n",
      "Column f20\n",
      "Values: ['I' 'N' 'P' 'K' 'H' 'A' 'Q' 'U' 'X' 'R' 'F' 'T' 'O' 'B' 'Y' 'M' 'W' 'Z'\n",
      " 'E' 'C' 'D' 'S' nan 'L' 'V' 'J' 'G']\n",
      "Number of unique: 27\n",
      "\n",
      "\n",
      "Column f21\n",
      "Values: [ 3. nan  5.  2.  1.  4.  0.]\n",
      "Number of unique: 7\n",
      "\n",
      "\n",
      "Column f22\n",
      "Values: [14.2364     nan 13.9537 ... 13.6301 14.3926 14.5273]\n",
      "Number of unique: 8874\n",
      "\n",
      "\n",
      "Column f23\n",
      "Values: [ 0.  2.  4. nan  1.  3.  5.]\n",
      "Number of unique: 7\n",
      "\n",
      "\n",
      "Column f24\n",
      "Values: [nan  3.  2.  1.  5.  4.  0.]\n",
      "Number of unique: 7\n",
      "\n",
      "\n",
      "Column f25\n",
      "Values: [ 4. nan  3.  5.  1.  0.  2.]\n",
      "Number of unique: 7\n",
      "\n",
      "\n",
      "Column f26\n",
      "Values: [ 1. nan  0.]\n",
      "Number of unique: 3\n",
      "\n",
      "\n",
      "Column f27\n",
      "Values: [ 5.  2.  0.  1.  4. nan  3.]\n",
      "Number of unique: 7\n",
      "\n",
      "\n",
      "Column f28\n",
      "Values: ['PS' 'DT' 'vq' 'Bx' 'kB' 'mX' 'Mq' 'oJ' 'sc' 'Nh' 'gj' 'cy' 'Dj' 'Sz'\n",
      " 'rl' 'rg' 'rM' 'Rv' 'WW' 'vx' 'AU' 'BL' 'ok' 'aA' 'Tz' 'Oe' 'uQ' 'HK'\n",
      " 'pT' 'XM' 'yE' 'Lo' 'Fl' 'ly' 'JQ' 'RV' 'IS' 'MV' 'NS' 'Ji' 'tn' 'hT'\n",
      " 'qN' 'fe' 'dp' 'Ib' 'FH' 'zf' 'iS' 'YJ' 'eA' 'xG' 'WC' 'wa' 'sF' 'IA'\n",
      " 'lA' 'Sk' 'TZ' 'gc' 'Mg' 'AG' 'UV' 'iv' 'MF' 'uW' 'al' 'EC' 'zc' 'oI'\n",
      " 'qP' 'dh' 'Iq' 'Rj' nan 'AI' 'mi' 'rA' 'mo' 'hG' 'uP' 'GZ' 'DI' 'RD' 'RT'\n",
      " 'LS' 'nj' 'oh' 'oU' 'Pk' 'th' 'mD' 'gt' 'LY' 'aE' 'XC' 'eN' 'US' 'mP'\n",
      " 'nS' 'Yi' 'ht' 'jp' 'Hk' 'kT' 'Ay' 'SS' 'zp' 'OM' 'lS' 'Ey' 'Ty' 'PG'\n",
      " 'fO' 'QV' 'Rz' 'cR' 'CN' 'fV' 'TH' 'TL' 'DR' 'Pw' 'gL' 'Tg' 'ja' 'us'\n",
      " 'pZ' 'DN' 'XR' 'pE' 'OZ' 'Ox' 'AW' 'be' 'gK' 'hx' 'cY' 'Re' 'CU' 'pB'\n",
      " 'yK' 'TP' 'XU' 'HF' 'MU' 'xB' 'RB' 'jf' 'lR' 'kv' 'cg' 'ep' 'JT' 'sf'\n",
      " 'Wr' 'sY' 'NT' 'ne' 'In' 'wU' 'nn' 'MX' 'Kq' 'xF' 'wJ' 'vQ' 'Yr' 'pl'\n",
      " 'uZ' 'Io' 'vw' 'kP' 'ze' 'Cn' 'BX' 'uI' 'Ro' 'XI' 'tT' 'Dn' 'fF' 'Yb'\n",
      " 'SL' 'Qm' 'FB' 'HO' 'ur' 'Zv' 'nf' 'gV']\n",
      "Number of unique: 191\n",
      "\n",
      "\n",
      "Column f29\n",
      "Values: [ 2.  5.  3. nan  4.  1.  0.]\n",
      "Number of unique: 7\n",
      "\n",
      "\n",
      "Column f30\n",
      "Values: [0.83404137 0.68602114 1.14127122 ... 1.81745014 1.61651632 1.76085917]\n",
      "Number of unique: 4554\n",
      "\n",
      "\n"
     ]
    }
   ],
   "source": [
    "for column in data.columns:\n",
    "    unique = data[column].unique()\n",
    "    count = len(unique)\n",
    "    print('Column', column)\n",
    "    print('Values:', unique)\n",
    "    print('Number of unique:', count)\n",
    "    print('\\n')\n",
    "    "
   ]
  },
  {
   "cell_type": "code",
   "execution_count": 26,
   "metadata": {},
   "outputs": [
    {
     "name": "stdout",
     "output_type": "stream",
     "text": [
      "Distribution of unique values and Nan:\n",
      "Column f0\n"
     ]
    },
    {
     "data": {
      "image/png": "[encoded data removed]",
      "text/plain": [
       "<Figure size 432x288 with 1 Axes>"
      ]
     },
     "metadata": {
      "needs_background": "light"
     },
     "output_type": "display_data"
    },
    {
     "name": "stdout",
     "output_type": "stream",
     "text": [
      "Column f1\n"
     ]
    },
    {
     "data": {
      "image/png": "[encoded data removed]",
      "text/plain": [
       "<Figure size 432x288 with 1 Axes>"
      ]
     },
     "metadata": {
      "needs_background": "light"
     },
     "output_type": "display_data"
    },
    {
     "name": "stdout",
     "output_type": "stream",
     "text": [
      "Column f2\n"
     ]
    },
    {
     "data": {
      "image/png": "[encoded data removed]",
      "text/plain": [
       "<Figure size 432x288 with 1 Axes>"
      ]
     },
     "metadata": {
      "needs_background": "light"
     },
     "output_type": "display_data"
    },
    {
     "name": "stdout",
     "output_type": "stream",
     "text": [
      "Column f3\n"
     ]
    },
    {
     "data": {
      "image/png": "[encoded data removed]",
      "text/plain": [
       "<Figure size 432x288 with 1 Axes>"
      ]
     },
     "metadata": {
      "needs_background": "light"
     },
     "output_type": "display_data"
    },
    {
     "name": "stdout",
     "output_type": "stream",
     "text": [
      "Column f5\n"
     ]
    },
    {
     "data": {
      "image/png": "[encoded data removed]",
      "text/plain": [
       "<Figure size 432x288 with 1 Axes>"
      ]
     },
     "metadata": {
      "needs_background": "light"
     },
     "output_type": "display_data"
    },
    {
     "name": "stdout",
     "output_type": "stream",
     "text": [
      "Column f6\n"
     ]
    },
    {
     "data": {
      "image/png": "[encoded data removed]",
      "text/plain": [
       "<Figure size 432x288 with 1 Axes>"
      ]
     },
     "metadata": {
      "needs_background": "light"
     },
     "output_type": "display_data"
    },
    {
     "name": "stdout",
     "output_type": "stream",
     "text": [
      "Column f9\n"
     ]
    },
    {
     "data": {
      "image/png": "[encoded data removed]",
      "text/plain": [
       "<Figure size 432x288 with 1 Axes>"
      ]
     },
     "metadata": {
      "needs_background": "light"
     },
     "output_type": "display_data"
    },
    {
     "name": "stdout",
     "output_type": "stream",
     "text": [
      "Column f11\n"
     ]
    },
    {
     "data": {
      "image/png": "[encoded data removed]",
      "text/plain": [
       "<Figure size 432x288 with 1 Axes>"
      ]
     },
     "metadata": {
      "needs_background": "light"
     },
     "output_type": "display_data"
    },
    {
     "name": "stdout",
     "output_type": "stream",
     "text": [
      "Column f15\n"
     ]
    },
    {
     "data": {
      "image/png": "[encoded data removed]",
      "text/plain": [
       "<Figure size 432x288 with 1 Axes>"
      ]
     },
     "metadata": {
      "needs_background": "light"
     },
     "output_type": "display_data"
    },
    {
     "name": "stdout",
     "output_type": "stream",
     "text": [
      "Column f17\n"
     ]
    },
    {
     "data": {
      "image/png": "[encoded data removed]",
      "text/plain": [
       "<Figure size 432x288 with 1 Axes>"
      ]
     },
     "metadata": {
      "needs_background": "light"
     },
     "output_type": "display_data"
    },
    {
     "name": "stdout",
     "output_type": "stream",
     "text": [
      "Column f18\n"
     ]
    },
    {
     "data": {
      "image/png": "[encoded data removed]",
      "text/plain": [
       "<Figure size 432x288 with 1 Axes>"
      ]
     },
     "metadata": {
      "needs_background": "light"
     },
     "output_type": "display_data"
    },
    {
     "name": "stdout",
     "output_type": "stream",
     "text": [
      "Column f19\n"
     ]
    },
    {
     "data": {
      "image/png": "[encoded data removed]",
      "text/plain": [
       "<Figure size 432x288 with 1 Axes>"
      ]
     },
     "metadata": {
      "needs_background": "light"
     },
     "output_type": "display_data"
    },
    {
     "name": "stdout",
     "output_type": "stream",
     "text": [
      "Column f20\n"
     ]
    },
    {
     "data": {
      "image/png": "[encoded data removed]",
      "text/plain": [
       "<Figure size 432x288 with 1 Axes>"
      ]
     },
     "metadata": {
      "needs_background": "light"
     },
     "output_type": "display_data"
    },
    {
     "name": "stdout",
     "output_type": "stream",
     "text": [
      "Column f21\n"
     ]
    },
    {
     "data": {
      "image/png": "[encoded data removed]",
      "text/plain": [
       "<Figure size 432x288 with 1 Axes>"
      ]
     },
     "metadata": {
      "needs_background": "light"
     },
     "output_type": "display_data"
    },
    {
     "name": "stdout",
     "output_type": "stream",
     "text": [
      "Column f23\n"
     ]
    },
    {
     "data": {
      "image/png": "[encoded data removed]",
      "text/plain": [
       "<Figure size 432x288 with 1 Axes>"
      ]
     },
     "metadata": {
      "needs_background": "light"
     },
     "output_type": "display_data"
    },
    {
     "name": "stdout",
     "output_type": "stream",
     "text": [
      "Column f24\n"
     ]
    },
    {
     "data": {
      "image/png": "[encoded data removed]",
      "text/plain": [
       "<Figure size 432x288 with 1 Axes>"
      ]
     },
     "metadata": {
      "needs_background": "light"
     },
     "output_type": "display_data"
    },
    {
     "name": "stdout",
     "output_type": "stream",
     "text": [
      "Column f25\n"
     ]
    },
    {
     "data": {
      "image/png": "[encoded data removed]",
      "text/plain": [
       "<Figure size 432x288 with 1 Axes>"
      ]
     },
     "metadata": {
      "needs_background": "light"
     },
     "output_type": "display_data"
    },
    {
     "name": "stdout",
     "output_type": "stream",
     "text": [
      "Column f26\n"
     ]
    },
    {
     "data": {
      "image/png": "[encoded data removed]",
      "text/plain": [
       "<Figure size 432x288 with 1 Axes>"
      ]
     },
     "metadata": {
      "needs_background": "light"
     },
     "output_type": "display_data"
    },
    {
     "name": "stdout",
     "output_type": "stream",
     "text": [
      "Column f27\n"
     ]
    },
    {
     "data": {
      "image/png": "[encoded data removed]",
      "text/plain": [
       "<Figure size 432x288 with 1 Axes>"
      ]
     },
     "metadata": {
      "needs_background": "light"
     },
     "output_type": "display_data"
    },
    {
     "name": "stdout",
     "output_type": "stream",
     "text": [
      "Column f29\n"
     ]
    },
    {
     "data": {
      "image/png": "[encoded data removed]",
      "text/plain": [
       "<Figure size 432x288 with 1 Axes>"
      ]
     },
     "metadata": {
      "needs_background": "light"
     },
     "output_type": "display_data"
    }
   ],
   "source": [
    "print('Distribution of unique values and Nan:')      \n",
    "for column in data.columns:\n",
    "    count = len(data[column].unique())\n",
    "    if count > 30:\n",
    "        continue # Too many values to compute/display graph on\n",
    "    value_percent = data[column].value_counts(dropna=False, sort=False).map(lambda x: x / len(data[column]) * 100).sort_index()\n",
    "    print('Column', column)\n",
    "    \n",
    "    ax = value_percent.plot.bar(rot=0)\n",
    "    ax.set_title(column)\n",
    "    plt.ylabel('Percent')\n",
    "    plt.xlabel('Values')\n",
    "    plt.show()\n"
   ]
  },
  {
   "cell_type": "markdown",
   "metadata": {},
   "source": [
    "## From the graphs we see the following\n",
    "Graphs with zero (0) as noise, meaning we can probably drop them:\n",
    "f1, f3, f18, f21, f24, f29\n",
    "\n",
    "f11 have noise in -1, in addition to 0.\n",
    "\n",
    "f17, f19 have only 0.002% and 0.001% 2 value counts"
   ]
  },
  {
   "cell_type": "code",
   "execution_count": null,
   "metadata": {},
   "outputs": [],
   "source": [
    "zero_columns = ['f1', 'f3', 'f11', 'f18', 'f21', 'f24', 'f29']"
   ]
  },
  {
   "cell_type": "code",
   "execution_count": null,
   "metadata": {},
   "outputs": [],
   "source": [
    "print('Look into zero values in train and test set')\n",
    "for column in zero_columns:\n",
    "    print('\\n', column)\n",
    "    print('Zero value in feature grouped by target:')\n",
    "    print(train.loc[train[column] == 0].groupby([column, 'target']).size())\n",
    "    print('\\n')\n",
    "    print('Zero value count in train vs test set')\n",
    "    print('train:', train.loc[train[column] == 0].shape[0])\n",
    "    print('test :', test.loc[test[column] == 0].shape[0])\n",
    "    \n",
    "    if (column == 'f11'):\n",
    "        print('\\n')\n",
    "        print(train.loc[train[column] == -1].groupby([column, 'target']).size())\n",
    "        print('train:', train.loc[train['f11'] == -1].shape[0])\n",
    "        print('test :', test.loc[test['f11'] == -1].shape[0])\n",
    "\n",
    "print('We see 0 value can be removed/changed safely from f3, f18, f21')"
   ]
  },
  {
   "cell_type": "markdown",
   "metadata": {},
   "source": [
    "# Now explore train data (with known target)"
   ]
  },
  {
   "cell_type": "code",
   "execution_count": 27,
   "metadata": {},
   "outputs": [
    {
     "name": "stdout",
     "output_type": "stream",
     "text": [
      "Tageet distribution:\n"
     ]
    },
    {
     "data": {
      "image/png": "[encoded data removed]",
      "text/plain": [
       "<Figure size 432x288 with 1 Axes>"
      ]
     },
     "metadata": {
      "needs_background": "light"
     },
     "output_type": "display_data"
    },
    {
     "name": "stdout",
     "output_type": "stream",
     "text": [
      "We see targets are not balanced\n"
     ]
    }
   ],
   "source": [
    "print('Tageet distribution:')\n",
    "train['target'].value_counts().plot.bar()\n",
    "plt.show()\n",
    "print('We see targets are not balanced')"
   ]
  },
  {
   "cell_type": "code",
   "execution_count": 59,
   "metadata": {},
   "outputs": [
    {
     "name": "stdout",
     "output_type": "stream",
     "text": [
      "Show how the catergorical values are distributed per target\n"
     ]
    },
    {
     "data": {
      "image/png": "[encoded data removed]",
      "text/plain": [
       "<Figure size 432x288 with 1 Axes>"
      ]
     },
     "metadata": {
      "needs_background": "light"
     },
     "output_type": "display_data"
    },
    {
     "data": {
      "image/png": "[encoded data removed]",
      "text/plain": [
       "<Figure size 432x288 with 1 Axes>"
      ]
     },
     "metadata": {
      "needs_background": "light"
     },
     "output_type": "display_data"
    },
    {
     "data": {
      "image/png": "[encoded data removed]",
      "text/plain": [
       "<Figure size 432x288 with 1 Axes>"
      ]
     },
     "metadata": {
      "needs_background": "light"
     },
     "output_type": "display_data"
    }
   ],
   "source": [
    "cat_columns = ['f5', 'f15', 'f20']\n",
    "\n",
    "print('Show how the catergorical values are distributed per target')\n",
    "for column in cat_columns:\n",
    "    group = train.groupby([column, 'target'])\n",
    "    percent = group.size().groupby(level=0).apply(lambda count: 100 * count / sum(count)).rename('Percent').reset_index()\n",
    "    pivot = percent.pivot(column, 'target', 'Percent')\n",
    "\n",
    "    ax = pivot.plot.bar(stacked=False, rot=0)\n",
    "    plt.title(f'{column} target distribution')\n",
    "    plt.ylabel('Percent')\n",
    "    plt.xlabel('Target')\n",
    "    plt.show()"
   ]
  },
  {
   "cell_type": "code",
   "execution_count": 68,
   "metadata": {},
   "outputs": [],
   "source": [
    "# Out of curiosity we want to explore the rows with a 1 and a 0 separately\n",
    "true_train = train.loc[train['target'] == 1]\n",
    "false_train = train.loc[train['target'] == 0]\n"
   ]
  },
  {
   "cell_type": "code",
   "execution_count": null,
   "metadata": {},
   "outputs": [],
   "source": [
    "true_profile = pandas_profiling.ProfileReport(true_train_data, minimal=True).to_file('true_train_report.html')\n",
    "true_profile = pandas_profiling.ProfileReport(false_train_data, minimal=True).to_file('false_train_report.html')"
   ]
  },
  {
   "cell_type": "markdown",
   "metadata": {},
   "source": [
    "By looking at the different in distribution of values within each column with respect to whether the target is a 0 or a 1\n",
    "the interesting columns seem to be:\n",
    "f0, f1, f2, f3, f4, f6, f13, f14(?) f15, f17, f18, f19, f21, f23, f24, f25, f26\n",
    "\n",
    "f13: different distribution, and 0 class have a weird common interval. Feature could be age, since values are whole numbers. \n",
    "then negative values are noise, and should be removed. \n",
    "\n",
    "f15: (A, B, C column) is _very_ discriminating between 0 and 1. A is twice as often a 1 than C, and the opposite for 0. \n",
    " B have equal distribution.\n",
    " \n",
    "f18: Many '5' values are class 1. "
   ]
  }
 ],
 "metadata": {
  "kernelspec": {
   "display_name": "Python 3",
   "language": "python",
   "name": "python3"
  },
  "language_info": {
   "codemirror_mode": {
    "name": "ipython",
    "version": 3
   },
   "file_extension": ".py",
   "mimetype": "text/x-python",
   "name": "python",
   "nbconvert_exporter": "python",
   "pygments_lexer": "ipython3",
   "version": "3.8.5"
  }
 },
 "nbformat": 4,
 "nbformat_minor": 4
}
